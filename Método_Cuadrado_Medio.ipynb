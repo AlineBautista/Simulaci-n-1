{
  "nbformat": 4,
  "nbformat_minor": 0,
  "metadata": {
    "colab": {
      "provenance": [],
      "authorship_tag": "ABX9TyPO3ttln9N22J3TdnKPGHIn",
      "include_colab_link": true
    },
    "kernelspec": {
      "name": "python3",
      "display_name": "Python 3"
    },
    "language_info": {
      "name": "python"
    }
  },
  "cells": [
    {
      "cell_type": "markdown",
      "metadata": {
        "id": "view-in-github",
        "colab_type": "text"
      },
      "source": [
        "<a href=\"https://colab.research.google.com/github/AlineBautista/Simulaci-n-1/blob/main/M%C3%A9todo_Cuadrado_Medio.ipynb\" target=\"_parent\"><img src=\"https://colab.research.google.com/assets/colab-badge.svg\" alt=\"Open In Colab\"/></a>"
      ]
    },
    {
      "cell_type": "code",
      "execution_count": 44,
      "metadata": {
        "colab": {
          "base_uri": "https://localhost:8080/"
        },
        "id": "-XF0weVTJbaM",
        "outputId": "0427957e-5eb0-4445-f52d-c4b671aef51a"
      },
      "outputs": [
        {
          "output_type": "stream",
          "name": "stdout",
          "text": [
            "x1= 5113\n",
            "x2= 1427\n",
            "x3= 363\n",
            "x4= 3176\n"
          ]
        }
      ],
      "source": [
        "x_0=2124;\n",
        "res = (x_0)**2\n",
        "res_str = str(res).zfill(8)\n",
        "x_1 = int(res_str[2:6])\n",
        "print(\"x1=\",x_1)\n",
        "\n",
        "res = (x_1)**2\n",
        "res_str= str(res).zfill(8)\n",
        "x_2=int(res_str[2:6])\n",
        "print(\"x2=\",x_2)\n",
        "\n",
        "res=(x_2)**2\n",
        "res_str= str(res).zfill(8)\n",
        "x_3=int(res_str[2:6])\n",
        "print(\"x3=\",x_3)\n",
        "\n",
        "res=(x_3)**2\n",
        "res_str= str(res).zfill(6)\n",
        "x_4=int(res_str[1:5])\n",
        "print(\"x4=\",x_4)"
      ]
    }
  ]
}