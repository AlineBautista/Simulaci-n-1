{
  "nbformat": 4,
  "nbformat_minor": 0,
  "metadata": {
    "colab": {
      "provenance": [],
      "authorship_tag": "ABX9TyPUKBt/iMFz3MD6/66AePmd",
      "include_colab_link": true
    },
    "kernelspec": {
      "name": "python3",
      "display_name": "Python 3"
    },
    "language_info": {
      "name": "python"
    }
  },
  "cells": [
    {
      "cell_type": "markdown",
      "metadata": {
        "id": "view-in-github",
        "colab_type": "text"
      },
      "source": [
        "<a href=\"https://colab.research.google.com/github/AlineBautista/Simulaci-n-1/blob/main/Metodo_Priducto_Medio.ipynb\" target=\"_parent\"><img src=\"https://colab.research.google.com/assets/colab-badge.svg\" alt=\"Open In Colab\"/></a>"
      ]
    },
    {
      "cell_type": "code",
      "execution_count": 9,
      "metadata": {
        "colab": {
          "base_uri": "https://localhost:8080/"
        },
        "id": "bbKrxewjuggS",
        "outputId": "711e686e-ed5f-4095-e17c-a2da1dd207b9"
      },
      "outputs": [
        {
          "output_type": "stream",
          "name": "stdout",
          "text": [
            "x2= 608\n",
            "x3= 772\n",
            "x4= 693\n",
            "x5= 349\n"
          ]
        }
      ],
      "source": [
        "x_0=123;\n",
        "x_1=456;\n",
        "\n",
        "res = (x_0)*(x_1)\n",
        "res_str = str(res).zfill(7)\n",
        "x_2 = int(res_str[3:6])\n",
        "print(\"x2=\",x_2)\n",
        "\n",
        "res = (x_1)*(x_2)\n",
        "res_str = str(res).zfill(7)\n",
        "x_3 = int(res_str[2:5])\n",
        "print(\"x3=\",x_3)\n",
        "\n",
        "res = (x_2)*(x_3)\n",
        "res_str = str(res).zfill(7)\n",
        "x_4 = int(res_str[2:5])\n",
        "print(\"x4=\",x_4)\n",
        "\n",
        "res = (x_3)*(x_4)\n",
        "res_str = str(res).zfill(7)\n",
        "x_5 = int(res_str[2:5])\n",
        "print(\"x5=\",x_5)"
      ]
    }
  ]
}