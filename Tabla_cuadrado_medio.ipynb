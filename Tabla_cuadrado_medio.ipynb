{
  "nbformat": 4,
  "nbformat_minor": 0,
  "metadata": {
    "colab": {
      "provenance": [],
      "authorship_tag": "ABX9TyPq+eKsSZ8EbirYPQpY1XiM",
      "include_colab_link": true
    },
    "kernelspec": {
      "name": "python3",
      "display_name": "Python 3"
    },
    "language_info": {
      "name": "python"
    }
  },
  "cells": [
    {
      "cell_type": "markdown",
      "metadata": {
        "id": "view-in-github",
        "colab_type": "text"
      },
      "source": [
        "<a href=\"https://colab.research.google.com/github/AlineBautista/Simulaci-n-1/blob/main/Tabla_cuadrado_medio.ipynb\" target=\"_parent\"><img src=\"https://colab.research.google.com/assets/colab-badge.svg\" alt=\"Open In Colab\"/></a>"
      ]
    },
    {
      "cell_type": "code",
      "execution_count": 6,
      "metadata": {
        "colab": {
          "base_uri": "https://localhost:8080/"
        },
        "id": "yNIfcg1Y3vcc",
        "outputId": "8c8a103c-5999-4dfb-8bb4-e061ec7b79ab"
      },
      "outputs": [
        {
          "output_type": "stream",
          "name": "stdout",
          "text": [
            "+----+------+------------+---------+\n",
            "|    |    n |   x_nx_n^2 |   x_n+1 |\n",
            "+====+======+============+=========+\n",
            "|  1 | 2124 |    4511376 |    5113 |\n",
            "+----+------+------------+---------+\n",
            "|  2 | 5113 |   26142769 |    1427 |\n",
            "+----+------+------------+---------+\n",
            "|  3 | 1427 |    2036329 |     363 |\n",
            "+----+------+------------+---------+\n",
            "|  4 |  363 |     131769 |    1317 |\n",
            "+----+------+------------+---------+\n",
            "|  5 | 1317 |    1734489 |    7344 |\n",
            "+----+------+------------+---------+\n",
            "|  6 | 7344 |   53934336 |    9343 |\n",
            "+----+------+------------+---------+\n",
            "|  7 | 9343 |   87291649 |    2916 |\n",
            "+----+------+------------+---------+\n",
            "|  8 | 2916 |    8503056 |    5030 |\n",
            "+----+------+------------+---------+\n",
            "|  9 | 5030 |   25300900 |    3009 |\n",
            "+----+------+------------+---------+\n",
            "| 10 | 3009 |    9054081 |     540 |\n",
            "+----+------+------------+---------+\n"
          ]
        }
      ],
      "source": [
        "from tabulate import tabulate\n",
        "\n",
        "x_n = 2124\n",
        "\n",
        "# Encabezados de la tabla\n",
        "table_headers = [\"n\",\"x_n\" \"x_n^2\", \"x_n+1\"]\n",
        "\n",
        "# Lista para almacenar las filas de la tabla\n",
        "table_rows = []\n",
        "\n",
        "iteration = 1\n",
        "\n",
        "while True:\n",
        "    res = x_n ** 2\n",
        "    res_str = str(res).zfill(8)\n",
        "    x_o = int(res_str[2:6])\n",
        "    table_rows.append([iteration,x_n, res, x_o])\n",
        "\n",
        "    # Actualizar los valores de x_n-1 y x_n para el siguiente ciclo\n",
        "    x_n = x_o\n",
        "\n",
        "    iteration += 1\n",
        "\n",
        "    # 10 iteraciones\n",
        "    if iteration > 10:\n",
        "        break\n",
        "\n",
        "# Tabla\n",
        "print(tabulate(table_rows, headers=table_headers, tablefmt=\"grid\"))"
      ]
    }
  ]
}