{
  "nbformat": 4,
  "nbformat_minor": 0,
  "metadata": {
    "colab": {
      "provenance": [],
      "authorship_tag": "ABX9TyMPTAXcGLmDCln5p0JQ8KaV",
      "include_colab_link": true
    },
    "kernelspec": {
      "name": "python3",
      "display_name": "Python 3"
    },
    "language_info": {
      "name": "python"
    }
  },
  "cells": [
    {
      "cell_type": "markdown",
      "metadata": {
        "id": "view-in-github",
        "colab_type": "text"
      },
      "source": [
        "<a href=\"https://colab.research.google.com/github/AlineBautista/Simulaci-n-1/blob/main/Producto_medio.ipynb\" target=\"_parent\"><img src=\"https://colab.research.google.com/assets/colab-badge.svg\" alt=\"Open In Colab\"/></a>"
      ]
    },
    {
      "cell_type": "code",
      "execution_count": 11,
      "metadata": {
        "colab": {
          "base_uri": "https://localhost:8080/"
        },
        "id": "h1HNlIutxe07",
        "outputId": "fe2c964d-51d3-44da-c7ea-f786e4e95105"
      },
      "outputs": [
        {
          "output_type": "stream",
          "name": "stdout",
          "text": [
            "+-----+---------+-------+----------------+---------+\n",
            "|   n |   x_n-1 |   x_n |   x_(n-1)*x(n) |   x_n+1 |\n",
            "+=====+=========+=======+================+=========+\n",
            "|   1 |     123 |   456 |          56088 |     608 |\n",
            "+-----+---------+-------+----------------+---------+\n",
            "|   2 |     456 |   608 |         277248 |     772 |\n",
            "+-----+---------+-------+----------------+---------+\n",
            "|   3 |     608 |   772 |         469376 |     693 |\n",
            "+-----+---------+-------+----------------+---------+\n",
            "|   4 |     772 |   693 |         534996 |     349 |\n",
            "+-----+---------+-------+----------------+---------+\n",
            "|   5 |     693 |   349 |         241857 |     418 |\n",
            "+-----+---------+-------+----------------+---------+\n",
            "|   6 |     349 |   418 |         145882 |     458 |\n",
            "+-----+---------+-------+----------------+---------+\n",
            "|   7 |     418 |   458 |         191444 |     914 |\n",
            "+-----+---------+-------+----------------+---------+\n",
            "|   8 |     458 |   914 |         418612 |     186 |\n",
            "+-----+---------+-------+----------------+---------+\n",
            "|   9 |     914 |   186 |         170004 |     700 |\n",
            "+-----+---------+-------+----------------+---------+\n",
            "|  10 |     186 |   700 |         130200 |     302 |\n",
            "+-----+---------+-------+----------------+---------+\n"
          ]
        }
      ],
      "source": [
        "from tabulate import tabulate\n",
        "# m=n-1\n",
        "# o=n+1\n",
        "\n",
        "x_m = 123\n",
        "x_n = 456\n",
        "\n",
        "# Encabezados de la tabla\n",
        "table_headers = [\"n\", \"x_n-1\", \"x_n\", \"x_(n-1)*x(n)\", \"x_n+1\"]\n",
        "\n",
        "# Lista para almacenar las filas de la tabla\n",
        "table_rows = []\n",
        "\n",
        "iteration = 1\n",
        "\n",
        "while True:\n",
        "    res = x_m * x_n\n",
        "    res_str = str(res).zfill(5)\n",
        "    x_o = int(res_str[1:4])\n",
        "    table_rows.append([iteration, x_m, x_n, res, x_o])\n",
        "\n",
        "    # Actualizar los valores de x_n-1 y x_n para el siguiente ciclo\n",
        "    x_m = x_n\n",
        "    x_n = x_o\n",
        "\n",
        "    iteration += 1\n",
        "\n",
        "    # 10 iteraciones\n",
        "    if iteration > 10:\n",
        "        break\n",
        "\n",
        "# Tabla\n",
        "print(tabulate(table_rows, headers=table_headers, tablefmt=\"grid\"))"
      ]
    }
  ]
}